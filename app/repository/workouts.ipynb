{
 "cells": [
  {
   "cell_type": "code",
   "execution_count": 1,
   "id": "c5e8b429-d3fc-46f1-a902-8b0767bfbf69",
   "metadata": {},
   "outputs": [],
   "source": [
    "from pathlib import Path\n",
    "import pandas as pd\n",
    "import numpy as np\n",
    "import datetime\n",
    "from typing import Callable, Union, Optional, TypeVar, List\n",
    "from pydantic import BaseModel\n",
    "import functools\n",
    "from pandas import DataFrame\n",
    "import Schemas\n",
    "from datetime import date\n",
    "from fastapi import HTTPException, status"
   ]
  },
  {
   "cell_type": "code",
   "execution_count": 5,
   "id": "68257b5c-a5ad-4078-a078-78b6b97fab30",
   "metadata": {},
   "outputs": [],
   "source": [
    "# Schemas \n",
    "class AddStudent(BaseModel):\n",
    "    course: str\n",
    "    year: int\n",
    "    name: str\n",
    "        \n",
    "class TakeAttendence(BaseModel):\n",
    "    course: str\n",
    "    year: int\n",
    "    take_full_day: bool\n",
    "    date: str\n",
    "    present: List[str]\n",
    "\n",
    "        \n",
    "class Files(BaseModel):\n",
    "    daily: Union[DataFrame, None]\n",
    "    monthly: Union[DataFrame, None]\n",
    "    daily_path: Path\n",
    "    monthly_path: Path\n",
    "        \n",
    "    class Config:\n",
    "        arbitrary_types_allowed = True\n",
    "\n",
    "class Analysing(BaseModel):\n",
    "    course: str\n",
    "    year: int\n",
    "    last_month: bool\n",
    "    which_month: Optional[str] = None\n",
    "    "
   ]
  },
  {
   "cell_type": "code",
   "execution_count": null,
   "id": "dc240494",
   "metadata": {},
   "outputs": [],
   "source": []
  },
  {
   "cell_type": "code",
   "execution_count": 6,
   "id": "f9690411-f72b-4546-9308-23f217da9e2c",
   "metadata": {},
   "outputs": [],
   "source": [
    "# Decorators\n",
    "BASE_PATH = Path(\"AttendenceFiles\")\n",
    "# BASE_PATH = Path(\"app/repository/AttendenceFiles\")\n",
    "\n",
    "def get_attendence_files(func: Callable):\n",
    "    \n",
    "    @functools.wraps(func)    \n",
    "    \n",
    "    def wrap(*args, **kwargs):\n",
    "        \n",
    "        open_files = kwargs['open_file'] if 'open_file' in kwargs else True\n",
    "        open_daily = kwargs['open_daily'] if 'open_daily' in kwargs else False\n",
    "    \n",
    "        course, year = kwargs['request'].course, kwargs['request'].year\n",
    "        daily_path = BASE_PATH/f\"{course}{year}.csv\"\n",
    "        monthly_path = BASE_PATH/f\"{course}{year}_monthly.csv\"\n",
    "        \n",
    "        if open_files:\n",
    "            daily = pd.read_csv(daily_path)\n",
    "            monthly = pd.read_csv(monthly_path) if open_daily else None\n",
    "\n",
    "            files = Files(daily=daily, monthly_path=monthly_path,\n",
    "                          daily_path=daily_path, monthly=monthly)\n",
    "            \n",
    "            return func(*args, **kwargs, files=files)\n",
    "            \n",
    "        files = Files(daily_path=daily_path, monthly_path=monthly_path)\n",
    "        \n",
    "        return func(*args, **kwargs, files=files)\n",
    "    \n",
    "    return wrap\n",
    "    "
   ]
  },
  {
   "cell_type": "code",
   "execution_count": 7,
   "id": "b04babba-0bf0-45f5-9979-e693499bd340",
   "metadata": {},
   "outputs": [],
   "source": [
    "def save_files(func: Callable):\n",
    "    @functools.wraps(func)\n",
    "    \n",
    "    def wraps(*args, **kwargs):\n",
    "                \n",
    "        save_monthly = kwargs['save_monthly'] if 'save_monthly' in kwargs else False\n",
    "        only_monthly = kwargs['only_monthly'] if 'only_monthly' in kwargs else False\n",
    "        \n",
    "        files = func(*args, **kwargs)\n",
    "        \n",
    "        if not only_monthly:\n",
    "            files.daily.to_csv(files.daily_path, index=False)\n",
    "        \n",
    "        if save_monthly or only_monthly:\n",
    "            files.monthly.to_csv(files.monthly_path, index=False)\n",
    "    return wraps"
   ]
  },
  {
   "cell_type": "markdown",
   "id": "f3adf08d",
   "metadata": {},
   "source": [
    "## Admit Students"
   ]
  },
  {
   "cell_type": "code",
   "execution_count": 8,
   "id": "48bbc382-78a2-4a3e-b700-c6900d851836",
   "metadata": {},
   "outputs": [],
   "source": [
    "@save_files\n",
    "@get_attendence_files\n",
    "def admit_students(request: AddStudent, files: Files, **kwargs):\n",
    "    '''kwargs: open_files(default) = True'''\n",
    "    \n",
    "    full_names = files.daily['StudentsName'].to_list()+[request.name]\n",
    "    files.daily = pd.DataFrame(data = full_names, columns=files.daily.columns)\n",
    "    files.monthly = pd.DataFrame(data = full_names, columns=files.daily.columns)\n",
    "    \n",
    "    return files"
   ]
  },
  {
   "cell_type": "code",
   "execution_count": 9,
   "id": "45fcb9af-51ca-4437-9a20-5d3c1e5f32e4",
   "metadata": {},
   "outputs": [
    {
     "name": "stdout",
     "output_type": "stream",
     "text": [
      "Help on function admit_students in module __main__:\n",
      "\n",
      "admit_students(request: __main__.AddStudent, files: __main__.Files, **kwargs)\n",
      "    kwargs: open_files(default) = True\n",
      "\n"
     ]
    }
   ],
   "source": [
    "help(admit_students)"
   ]
  },
  {
   "cell_type": "markdown",
   "id": "f57676a6",
   "metadata": {},
   "source": [
    "## Take Attendence"
   ]
  },
  {
   "cell_type": "code",
   "execution_count": 10,
   "id": "65c4793a-3bdc-4d38-8de2-8033e953250d",
   "metadata": {},
   "outputs": [],
   "source": [
    "## Take Attendence\n",
    "@save_files\n",
    "@get_attendence_files\n",
    "def take_attendence(request: TakeAttendence, files: Files, **kwargs):\n",
    "    '''\n",
    "    kwargs open_daily(default) = False, this will only open daily attendence file\n",
    "    '''\n",
    "    df = files.daily\n",
    "    attendence = df[request.date].values if request.date in df else np.zeros(len(df))\n",
    "    present_indices = df['StudentsName'][df['StudentsName'].isin(request.present)].index\n",
    "    \n",
    "    if request.take_full_day == True:\n",
    "#         if attendence.any(): raise Exception(\"Attendence already taken...\")\n",
    "        assert not attendence.any(),\\\n",
    "            f\"{request.date} attendence already taken\"\n",
    "        attendence[present_indices] = 1.\n",
    "        \n",
    "    else: attendence[present_indices] += .20\n",
    "\n",
    "    files.daily[request.date] = attendence\n",
    "\n",
    "    return files\n"
   ]
  },
  {
   "cell_type": "code",
   "execution_count": 11,
   "id": "7fa2131c",
   "metadata": {},
   "outputs": [
    {
     "name": "stdout",
     "output_type": "stream",
     "text": [
      "Help on function take_attendence in module __main__:\n",
      "\n",
      "take_attendence(request: __main__.TakeAttendence, files: __main__.Files, **kwargs)\n",
      "    kwargs open_daily(default) = False, this will only open daily attendence file\n",
      "\n"
     ]
    }
   ],
   "source": [
    "help(take_attendence)"
   ]
  },
  {
   "cell_type": "code",
   "execution_count": null,
   "id": "ab64e6cc",
   "metadata": {},
   "outputs": [],
   "source": []
  },
  {
   "cell_type": "markdown",
   "id": "d6401fbc",
   "metadata": {},
   "source": [
    "## Get Student Names"
   ]
  },
  {
   "cell_type": "code",
   "execution_count": 12,
   "id": "8ec97898",
   "metadata": {},
   "outputs": [],
   "source": [
    "@get_attendence_files\n",
    "def get_student_names(request: Schemas.set_class, files: Files):\n",
    "    names = files.daily['StudentsName'].to_list()\n",
    "    return names"
   ]
  },
  {
   "cell_type": "code",
   "execution_count": 13,
   "id": "77947417",
   "metadata": {},
   "outputs": [
    {
     "name": "stdout",
     "output_type": "stream",
     "text": [
      "Help on function get_student_names in module __main__:\n",
      "\n",
      "get_student_names(request: Schemas.set_class, files: __main__.Files)\n",
      "\n"
     ]
    }
   ],
   "source": [
    "help(get_student_names)"
   ]
  },
  {
   "cell_type": "code",
   "execution_count": null,
   "id": "aa20501a",
   "metadata": {},
   "outputs": [],
   "source": []
  },
  {
   "cell_type": "markdown",
   "id": "d0b6f431",
   "metadata": {},
   "source": [
    "## Analysing"
   ]
  },
  {
   "cell_type": "code",
   "execution_count": 14,
   "id": "f32ad90e",
   "metadata": {},
   "outputs": [],
   "source": [
    "def calculate_score(x: float):\n",
    "    if x >= 90: return 5\n",
    "    elif x >= 85 and x <= 89: return 4\n",
    "    elif x >= 80 and x <=84: return 3\n",
    "    elif x >=76 and x <= 79: return 2\n",
    "    elif x == 75 and x< 76: return 1\n",
    "    else: return 0"
   ]
  },
  {
   "cell_type": "code",
   "execution_count": 15,
   "id": "34541a3e",
   "metadata": {},
   "outputs": [],
   "source": [
    "@get_attendence_files\n",
    "def attendence_analysing(request: Analysing, files: Files):\n",
    "    df = files.daily\n",
    "    if request.last_month: \n",
    "        \n",
    "        which_month = request.which_month[5:7]\n",
    "        date_columns = [date for date in df.columns[1:] if date[5:7] == which_month]\n",
    "\n",
    "        if not len(date_columns): raise HTTPException(status_code=status.HTTP_406_NOT_ACCEPTABLE,\n",
    "                                                detail=f\"No attendence taken in {which_month} month\")\n",
    "        return get_analysis(df, date_columns)\n",
    "    \n",
    "\n",
    "    date_columns = df.columns.to_list()\n",
    "\n",
    "    if not len(date_columns): raise HTTPException(status_code=status.HTTP_406_NOT_ACCEPTABLE,\n",
    "                                                  detail=\"No attendence taken in this month\")\n",
    "    \n",
    "    return get_analysis(df, date_columns)"
   ]
  },
  {
   "cell_type": "code",
   "execution_count": 16,
   "id": "202894a4",
   "metadata": {},
   "outputs": [],
   "source": [
    "def get_analysis(df: pd.DataFrame, date_columns: Union[pd.Index, List]):\n",
    "    \n",
    "    number_of_working_days = df.shape[1] - 1\n",
    "    number_of_holidays = 90 - number_of_working_days\n",
    "    df_working = df[date_columns]\n",
    "    \n",
    "    present_count = df_working.sum(axis=1)\n",
    "    percentage = (present_count / number_of_working_days) * 100\n",
    "    \n",
    "    convert_to_90 = percentage / 90 * 100\n",
    "    convert_to_90 = convert_to_90.round().to_list()\n",
    "    \n",
    "    students_names = df['StudentsName'].iloc[present_count.index].to_list()\n",
    "    \n",
    "    total_leav = np.count_nonzero(df_working==0.0, axis=1).tolist()\n",
    "    \n",
    "    data = {\"FULL_NAME\": students_names, \"TOTAL_LEAVE\": total_leav,\n",
    "            \"PERCENTAGE\": convert_to_90}\n",
    "    \n",
    "    final_report = pd.DataFrame(data = data,\n",
    "                        columns=[\"FULL_NAME\", \"TOTAL_LEAVE\", \"PERCENTAGE\"])\n",
    "    \n",
    "    final_report[\"INTERNAL_MARK\"] = final_report[\"PERCENTAGE\"].apply(calculate_score)\n",
    "    \n",
    "    return final_report"
   ]
  },
  {
   "cell_type": "code",
   "execution_count": null,
   "id": "82013359",
   "metadata": {},
   "outputs": [],
   "source": []
  },
  {
   "cell_type": "code",
   "execution_count": null,
   "id": "0352d67e",
   "metadata": {},
   "outputs": [],
   "source": []
  },
  {
   "cell_type": "code",
   "execution_count": null,
   "id": "ab440214",
   "metadata": {},
   "outputs": [],
   "source": []
  },
  {
   "cell_type": "markdown",
   "id": "bf7e2815",
   "metadata": {},
   "source": [
    "# testing workings"
   ]
  },
  {
   "cell_type": "code",
   "execution_count": 19,
   "id": "d263c250",
   "metadata": {},
   "outputs": [],
   "source": [
    "add_student1 = AddStudent(course='bca', year=1, name='Lalkrishna')\n",
    "add_student2 = AddStudent(course='bca', year=1, name='Arjun')"
   ]
  },
  {
   "cell_type": "code",
   "execution_count": 20,
   "id": "9f3c54c5",
   "metadata": {},
   "outputs": [],
   "source": [
    "admit_students(request=add_student1)\n",
    "admit_students(request=add_student2)"
   ]
  },
  {
   "cell_type": "code",
   "execution_count": 31,
   "id": "29d7d66f",
   "metadata": {},
   "outputs": [],
   "source": [
    "dateq = str(date(2020, 2, 4))\n",
    "attnhr1 = TakeAttendence(take_full_day=False, date=dateq,\\\n",
    "                        present=['Arjun'], course='bca',\\\n",
    "                        year=1)\n",
    "attnhr2 = TakeAttendence(take_full_day=True, date=dateq, present=['Arjun'],\n",
    "                        course='bca',\\\n",
    "                        year=1)"
   ]
  },
  {
   "cell_type": "code",
   "execution_count": 30,
   "id": "7f824945",
   "metadata": {},
   "outputs": [],
   "source": [
    "take_attendence(request=attnhr1, open_daily=True)"
   ]
  },
  {
   "cell_type": "code",
   "execution_count": 33,
   "id": "66fff409",
   "metadata": {},
   "outputs": [
    {
     "ename": "Exception",
     "evalue": "Attendence already taken...",
     "output_type": "error",
     "traceback": [
      "\u001b[1;31m---------------------------------------------------------------------------\u001b[0m",
      "\u001b[1;31mException\u001b[0m                                 Traceback (most recent call last)",
      "\u001b[1;32m~\\AppData\\Local\\Temp/ipykernel_22436/2848281212.py\u001b[0m in \u001b[0;36m<module>\u001b[1;34m\u001b[0m\n\u001b[1;32m----> 1\u001b[1;33m \u001b[0mtake_attendence\u001b[0m\u001b[1;33m(\u001b[0m\u001b[0mrequest\u001b[0m\u001b[1;33m=\u001b[0m\u001b[0mattnhr2\u001b[0m\u001b[1;33m,\u001b[0m \u001b[0mopen_daily\u001b[0m\u001b[1;33m=\u001b[0m\u001b[1;32mTrue\u001b[0m\u001b[1;33m)\u001b[0m\u001b[1;33m\u001b[0m\u001b[1;33m\u001b[0m\u001b[0m\n\u001b[0m",
      "\u001b[1;32m~\\AppData\\Local\\Temp/ipykernel_22436/3086134413.py\u001b[0m in \u001b[0;36mwraps\u001b[1;34m(*args, **kwargs)\u001b[0m\n\u001b[0;32m      7\u001b[0m         \u001b[0monly_monthly\u001b[0m \u001b[1;33m=\u001b[0m \u001b[0mkwargs\u001b[0m\u001b[1;33m[\u001b[0m\u001b[1;34m'only_monthly'\u001b[0m\u001b[1;33m]\u001b[0m \u001b[1;32mif\u001b[0m \u001b[1;34m'only_monthly'\u001b[0m \u001b[1;32min\u001b[0m \u001b[0mkwargs\u001b[0m \u001b[1;32melse\u001b[0m \u001b[1;32mFalse\u001b[0m\u001b[1;33m\u001b[0m\u001b[1;33m\u001b[0m\u001b[0m\n\u001b[0;32m      8\u001b[0m \u001b[1;33m\u001b[0m\u001b[0m\n\u001b[1;32m----> 9\u001b[1;33m         \u001b[0mfiles\u001b[0m \u001b[1;33m=\u001b[0m \u001b[0mfunc\u001b[0m\u001b[1;33m(\u001b[0m\u001b[1;33m*\u001b[0m\u001b[0margs\u001b[0m\u001b[1;33m,\u001b[0m \u001b[1;33m**\u001b[0m\u001b[0mkwargs\u001b[0m\u001b[1;33m)\u001b[0m\u001b[1;33m\u001b[0m\u001b[1;33m\u001b[0m\u001b[0m\n\u001b[0m\u001b[0;32m     10\u001b[0m \u001b[1;33m\u001b[0m\u001b[0m\n\u001b[0;32m     11\u001b[0m         \u001b[1;32mif\u001b[0m \u001b[1;32mnot\u001b[0m \u001b[0monly_monthly\u001b[0m\u001b[1;33m:\u001b[0m\u001b[1;33m\u001b[0m\u001b[1;33m\u001b[0m\u001b[0m\n",
      "\u001b[1;32m~\\AppData\\Local\\Temp/ipykernel_22436/2859474186.py\u001b[0m in \u001b[0;36mwrap\u001b[1;34m(*args, **kwargs)\u001b[0m\n\u001b[0;32m     23\u001b[0m                           daily_path=daily_path, monthly=monthly)\n\u001b[0;32m     24\u001b[0m \u001b[1;33m\u001b[0m\u001b[0m\n\u001b[1;32m---> 25\u001b[1;33m             \u001b[1;32mreturn\u001b[0m \u001b[0mfunc\u001b[0m\u001b[1;33m(\u001b[0m\u001b[1;33m*\u001b[0m\u001b[0margs\u001b[0m\u001b[1;33m,\u001b[0m \u001b[1;33m**\u001b[0m\u001b[0mkwargs\u001b[0m\u001b[1;33m,\u001b[0m \u001b[0mfiles\u001b[0m\u001b[1;33m=\u001b[0m\u001b[0mfiles\u001b[0m\u001b[1;33m)\u001b[0m\u001b[1;33m\u001b[0m\u001b[1;33m\u001b[0m\u001b[0m\n\u001b[0m\u001b[0;32m     26\u001b[0m \u001b[1;33m\u001b[0m\u001b[0m\n\u001b[0;32m     27\u001b[0m         \u001b[0mfiles\u001b[0m \u001b[1;33m=\u001b[0m \u001b[0mFiles\u001b[0m\u001b[1;33m(\u001b[0m\u001b[0mdaily_path\u001b[0m\u001b[1;33m=\u001b[0m\u001b[0mdaily_path\u001b[0m\u001b[1;33m,\u001b[0m \u001b[0mmonthly_path\u001b[0m\u001b[1;33m=\u001b[0m\u001b[0mmonthly_path\u001b[0m\u001b[1;33m)\u001b[0m\u001b[1;33m\u001b[0m\u001b[1;33m\u001b[0m\u001b[0m\n",
      "\u001b[1;32m~\\AppData\\Local\\Temp/ipykernel_22436/3413672691.py\u001b[0m in \u001b[0;36mtake_attendence\u001b[1;34m(request, files, **kwargs)\u001b[0m\n\u001b[0;32m     11\u001b[0m \u001b[1;33m\u001b[0m\u001b[0m\n\u001b[0;32m     12\u001b[0m     \u001b[1;32mif\u001b[0m \u001b[0mrequest\u001b[0m\u001b[1;33m.\u001b[0m\u001b[0mtake_full_day\u001b[0m \u001b[1;33m==\u001b[0m \u001b[1;32mTrue\u001b[0m\u001b[1;33m:\u001b[0m\u001b[1;33m\u001b[0m\u001b[1;33m\u001b[0m\u001b[0m\n\u001b[1;32m---> 13\u001b[1;33m         \u001b[1;32mif\u001b[0m \u001b[0mattendence\u001b[0m\u001b[1;33m.\u001b[0m\u001b[0many\u001b[0m\u001b[1;33m(\u001b[0m\u001b[1;33m)\u001b[0m\u001b[1;33m:\u001b[0m \u001b[1;32mraise\u001b[0m \u001b[0mException\u001b[0m\u001b[1;33m(\u001b[0m\u001b[1;34m\"Attendence already taken...\"\u001b[0m\u001b[1;33m)\u001b[0m\u001b[1;33m\u001b[0m\u001b[1;33m\u001b[0m\u001b[0m\n\u001b[0m\u001b[0;32m     14\u001b[0m         \u001b[1;32massert\u001b[0m \u001b[1;32mnot\u001b[0m \u001b[0mattendence\u001b[0m\u001b[1;33m.\u001b[0m\u001b[0many\u001b[0m\u001b[1;33m(\u001b[0m\u001b[1;33m)\u001b[0m\u001b[1;33m,\u001b[0m\u001b[0;31m\\\u001b[0m\u001b[1;33m\u001b[0m\u001b[1;33m\u001b[0m\u001b[0m\n\u001b[0;32m     15\u001b[0m             \u001b[1;34mf\"{request.date} attendence already taken\"\u001b[0m\u001b[1;33m\u001b[0m\u001b[1;33m\u001b[0m\u001b[0m\n",
      "\u001b[1;31mException\u001b[0m: Attendence already taken..."
     ]
    }
   ],
   "source": [
    "take_attendence(request=attnhr2, open_daily=True)"
   ]
  },
  {
   "cell_type": "code",
   "execution_count": null,
   "id": "5ed048d5",
   "metadata": {},
   "outputs": [],
   "source": []
  },
  {
   "cell_type": "code",
   "execution_count": null,
   "id": "1002fc31",
   "metadata": {},
   "outputs": [],
   "source": []
  },
  {
   "cell_type": "code",
   "execution_count": 326,
   "id": "9a5f9b3d",
   "metadata": {},
   "outputs": [],
   "source": [
    "# Analysis testing"
   ]
  },
  {
   "cell_type": "code",
   "execution_count": 17,
   "id": "405754f4",
   "metadata": {},
   "outputs": [
    {
     "data": {
      "text/html": [
       "<div>\n",
       "<style scoped>\n",
       "    .dataframe tbody tr th:only-of-type {\n",
       "        vertical-align: middle;\n",
       "    }\n",
       "\n",
       "    .dataframe tbody tr th {\n",
       "        vertical-align: top;\n",
       "    }\n",
       "\n",
       "    .dataframe thead th {\n",
       "        text-align: right;\n",
       "    }\n",
       "</style>\n",
       "<table border=\"1\" class=\"dataframe\">\n",
       "  <thead>\n",
       "    <tr style=\"text-align: right;\">\n",
       "      <th></th>\n",
       "      <th>FULL_NAME</th>\n",
       "      <th>TOTAL_LEAVE</th>\n",
       "      <th>PERCENTAGE</th>\n",
       "      <th>INTERNAL_MARK</th>\n",
       "    </tr>\n",
       "  </thead>\n",
       "  <tbody>\n",
       "    <tr>\n",
       "      <th>0</th>\n",
       "      <td>ADFADFAS</td>\n",
       "      <td>1</td>\n",
       "      <td>67.0</td>\n",
       "      <td>0</td>\n",
       "    </tr>\n",
       "    <tr>\n",
       "      <th>1</th>\n",
       "      <td>alkfjladfkas</td>\n",
       "      <td>0</td>\n",
       "      <td>67.0</td>\n",
       "      <td>0</td>\n",
       "    </tr>\n",
       "  </tbody>\n",
       "</table>\n",
       "</div>"
      ],
      "text/plain": [
       "      FULL_NAME  TOTAL_LEAVE  PERCENTAGE  INTERNAL_MARK\n",
       "0      ADFADFAS            1        67.0              0\n",
       "1  alkfjladfkas            0        67.0              0"
      ]
     },
     "execution_count": 17,
     "metadata": {},
     "output_type": "execute_result"
    }
   ],
   "source": [
    "sample = Analysing(course='bcomfinance', year=1, last_month=False)\n",
    "\n",
    "data = attendence_analysing(request=sample)\n",
    "data"
   ]
  },
  {
   "cell_type": "code",
   "execution_count": 18,
   "id": "9172f12c",
   "metadata": {},
   "outputs": [
    {
     "data": {
      "text/html": [
       "<div>\n",
       "<style scoped>\n",
       "    .dataframe tbody tr th:only-of-type {\n",
       "        vertical-align: middle;\n",
       "    }\n",
       "\n",
       "    .dataframe tbody tr th {\n",
       "        vertical-align: top;\n",
       "    }\n",
       "\n",
       "    .dataframe thead th {\n",
       "        text-align: right;\n",
       "    }\n",
       "</style>\n",
       "<table border=\"1\" class=\"dataframe\">\n",
       "  <thead>\n",
       "    <tr style=\"text-align: right;\">\n",
       "      <th></th>\n",
       "      <th>FULL_NAME</th>\n",
       "      <th>TOTAL_LEAVE</th>\n",
       "      <th>PERCENTAGE</th>\n",
       "      <th>INTERNAL_MARK</th>\n",
       "    </tr>\n",
       "  </thead>\n",
       "  <tbody>\n",
       "    <tr>\n",
       "      <th>0</th>\n",
       "      <td>ADFADFAS</td>\n",
       "      <td>0</td>\n",
       "      <td>67.0</td>\n",
       "      <td>0</td>\n",
       "    </tr>\n",
       "    <tr>\n",
       "      <th>1</th>\n",
       "      <td>alkfjladfkas</td>\n",
       "      <td>0</td>\n",
       "      <td>63.0</td>\n",
       "      <td>0</td>\n",
       "    </tr>\n",
       "  </tbody>\n",
       "</table>\n",
       "</div>"
      ],
      "text/plain": [
       "      FULL_NAME  TOTAL_LEAVE  PERCENTAGE  INTERNAL_MARK\n",
       "0      ADFADFAS            0        67.0              0\n",
       "1  alkfjladfkas            0        63.0              0"
      ]
     },
     "execution_count": 18,
     "metadata": {},
     "output_type": "execute_result"
    }
   ],
   "source": [
    "sample = Analysing(course='bcomfinance', year=1, last_month=True, which_month='2021-08-555')\n",
    "\n",
    "data = attendence_analysing(request=sample)\n",
    "data"
   ]
  },
  {
   "cell_type": "code",
   "execution_count": null,
   "id": "148f3b26",
   "metadata": {},
   "outputs": [],
   "source": []
  }
 ],
 "metadata": {
  "kernelspec": {
   "display_name": "Python 3",
   "language": "python",
   "name": "python3"
  },
  "language_info": {
   "codemirror_mode": {
    "name": "ipython",
    "version": 3
   },
   "file_extension": ".py",
   "mimetype": "text/x-python",
   "name": "python",
   "nbconvert_exporter": "python",
   "pygments_lexer": "ipython3",
   "version": "3.9.5"
  }
 },
 "nbformat": 4,
 "nbformat_minor": 5
}
